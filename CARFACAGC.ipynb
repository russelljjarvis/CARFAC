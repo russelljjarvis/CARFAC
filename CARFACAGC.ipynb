{
 "cells": [
  {
   "cell_type": "markdown",
   "metadata": {},
   "source": [
    "CAR FAC - Cascade of Asymmetric Resonators with Fast Acting Compression\n",
    "===\n",
    "\n",
    "The code below implements a model of the cochlea developed by Dick Lyon.\n",
    "\n",
    "It is described in detail in his [book](http://www.machinehearing.org). Page numbers in the code comments refer to the pages of this book.\n"
   ]
  },
  {
   "cell_type": "markdown",
   "metadata": {},
   "source": [
    "Following on from the previous notebook on [the CARFAC model](http://nbviewer.ipython.org/github/vschaik/CARFAC/blob/master/CARFAC.ipynb) which added the Outer Hair Cell to the Basilar Membrane model, we now incorporate the feedback loop that controls the gain of the OHCs. To do so, we implement the following structure:\n",
    "\n",
    "<img src=\"./images/AGC1.png\" alt=\"AGC blocks\" style=\"width: 600px;\">\n",
    "\n",
    "Each temporal filter output is also spatially filtered as shown here:\n",
    "\n",
    "<img src=\"./images/AGC2.png\" alt=\"AGC spatial filter\" style=\"width: 600px;\">\n",
    "\n",
    "\n",
    "To measure the linearised transfer functions of the adapted cochlea, we first play a 700 Hz pure tone stimulus through the cochlea, after which we fix the value of b for each section, and then run the log sine sweep signal through the cochlea as before to measure the transfer function.\n"
   ]
  },
  {
   "cell_type": "code",
   "execution_count": 1,
   "metadata": {},
   "outputs": [],
   "source": [
    "%matplotlib widget\n",
    "from pylab import *\n",
    "from scipy import signal\n",
    "import colorsys\n",
    "from mpl_toolkits.mplot3d import Axes3D\n",
    "\n",
    "fs = 32000.0                  # sample frequency\n",
    "dur = 1.0                     # stimulus length\n",
    "npoints = int(fs*dur)\n",
    "\n",
    "nsec = 100                    # number of sections in the cochlea between\n",
    "xlow = 0.10                   # lowest frequency position along the cochlea and\n",
    "xhigh = 0.90                  # highest frequency position along the cochlea\n",
    "\n",
    "# create input tone\n",
    "f0 = 700                      # tone frequency\n",
    "t1 = arange(npoints)/fs       # sample times\n",
    "gain = 0.1                    # input gain\n",
    "stimulus = gain*sin(2*pi*f0*t1)\n",
    "\n",
    "# BM parameters\n",
    "x = linspace(xhigh,xlow,nsec) # position along the cochlea 1 = base, 0 = apex\n",
    "f = 165.4*(10**(2.1*x)-1)     # Greenwood for humans\n",
    "a0 = cos(2*pi*f/fs)           # a0 and c0 control the poles and zeros\n",
    "c0 = sin(2*pi*f/fs)\n",
    "\n",
    "damping = 0.2                 # damping factor\n",
    "r = 1 - damping*2*pi*f/fs     # pole & zero radius actual\n",
    "r1 = 1 - damping*2*pi*f/fs    # pole & zero radius minimum (set point)\n",
    "h = c0                        # p302 h=c0 puts the zeros 1/2 octave above poles\n",
    "g = (1-2*a0*r+r*r)/(1-(2*a0-h*c0)*r+r*r)  # p303 this gives 0dB DC gain for BM\n",
    "\n",
    "f_hpf = 20                    # p328 20Hz corner for the BM HPF\n",
    "q = 1/(1+(2*pi*f_hpf/fs))     # corresponding IIR coefficient \n",
    "\n",
    "tau_in = 10e-3                # p329 transmitter creation time constant\n",
    "c_in = 1/(fs*tau_in)          # p329 corresponding IIR coefficient    \n",
    "tau_out = 0.5e-3              # p329 transmitter depletion time constant\n",
    "c_out = 1/(fs*tau_out)        # p329 corresponding IIR coefficient \n",
    "tau_IHC = 80e-6               # p329 ~8kHz LPF for IHC output\n",
    "c_IHC = 1/(fs*tau_IHC)        # corresponding IIR coefficient \n",
    "\n",
    "# OHC parameters\n",
    "scale = 0.1                   # p313 NLF parameter\n",
    "offset = 0.04                 # p313 NLF parameter\n",
    "b = 1.0                       # automatic gain loop feedback (1=no undamping).\n",
    "d_rz = 0.7*(1 - r1)           # p310 relative undamping\n",
    "\n",
    "# AGC loop parameters\n",
    "tau_AGC = .002 * 4**arange(4) # p336\n",
    "\n",
    "# The AGC filters are decimated, i.e., running at a lower sample rate\n",
    "c_AGC = 8 * 2**arange(4)/(fs*tau_AGC)\n",
    "\n",
    "# spatial filtering\n",
    "shift_AGC = c_AGC * 0.65 * np.sqrt(2)**np.arange(4)\n",
    "spread_sq_AGC = c_AGC * (1.65**2 + 1) * 2**np.arange(4)\n",
    "sa = (spread_sq_AGC + shift_AGC**2 - shift_AGC)/2\n",
    "sb = (spread_sq_AGC + shift_AGC**2 + shift_AGC)/2\n",
    "sc = 1 - sa - sb\n",
    "\n",
    "# initialise internal states\n",
    "W0 = zeros(nsec)              # BM filter internal state\n",
    "W1 = zeros(nsec)              # BM filter internal state\n",
    "W1old = zeros(nsec)           # BM filter internal state at t-1\n",
    "BM = zeros((nsec,npoints))    # BM displacement\n",
    "BM_hpf = zeros((nsec,npoints))# BM displacement high-pass filtered at 20Hz\n",
    "trans = ones(nsec)            # transmitter available\n",
    "IHC = zeros((nsec,npoints))   # IHC output\n",
    "IHCa = zeros((nsec,npoints))  # IHC filter internal state\n",
    "In8 = zeros(nsec)             # Accumulator for ACG4\n",
    "In16 = zeros(nsec)            # Accumulator for AGC3\n",
    "In32 = zeros(nsec)            # Accumulator for AGC2\n",
    "In64 = zeros(nsec)            # Accumulator for AGC1\n",
    "AGC = zeros((nsec,npoints))   # AGC filter internal state\n",
    "AGC0 = zeros(nsec)            # AGC filter internal state\n",
    "AGC1 = zeros(nsec)            # AGC filter internal state\n",
    "AGC2 = zeros(nsec)            # AGC filter internal state\n",
    "AGC3 = zeros(nsec)            # AGC filter internal state\n",
    "\n",
    "\n",
    "# play through cochlea\n",
    "BM[-1] = stimulus             # put stimulus at BM[-1] to provide input to BM[0]\n",
    "BM[-1,-1] = 0                 # hack to make BM_hpf[nsec-1,0] work\n",
    "for t in range(npoints):\n",
    "    for s in range(nsec):     # multiplex through the sections to calculate BM filters\n",
    "        W0new = BM[s-1,t] + r[s]*(a0[s]*W0[s] - c0[s]*W1[s])\n",
    "        W1[s] = r[s]*(a0[s]*W1[s] + c0[s]*W0[s])\n",
    "        W0[s] = W0new\n",
    "        BM[s,t] = g[s]*(BM[s-1,t] + h[s]*W1[s])\n",
    "    # to speed up simulation, operate on all sections simultaneously for what follows    \n",
    "    BM_hpf[:,t] = q*(BM_hpf[:,t-1] + BM[:,t] - BM[:,t-1])            # high-pass filter\n",
    "    z = (BM_hpf[:,t]+0.175).clip(0)                                  # nonlinear function for IHC\n",
    "    v_mem = z**3/(z**3+z**2+0.1)                                     # nonlinear function for IHC\n",
    "    IHC_new = v_mem*trans                                            # IHC output\n",
    "    trans += c_in*(1-trans) - c_out*IHC_new                          # update amount of neuro transmitter\n",
    "    IHCa[:,t] = (1-c_IHC)*IHCa[:,t-1] + c_IHC*IHC_new                # Low-pass filter once\n",
    "    IHC[:,t] = (1-c_IHC)*IHC[:,t-1] + c_IHC*IHCa[:,t]                # Low-pass filter twice\n",
    "    v_OHC = W1 - W1old                                               # OHC potential\n",
    "    W1old = W1.copy()\n",
    "    sqr=(v_OHC*scale+offset)**2\n",
    "    NLF= 1/(1 + (scale*v_OHC + offset)**2)                           # nonlinear function for OHC\n",
    "    In8 += IHC[:,t]/8.0                                              # accumulate input\n",
    "    if t%64 == 0:                                                    # subsample AGC1 by factor 64\n",
    "        AGC3 = (1-c_AGC[3])*AGC3 + c_AGC[3]*In64                     # LPF in time domain\n",
    "        AGC3 = sa[3]*roll(AGC3,1) + sc[3]*AGC3 + sb[3]*roll(AGC3,-1) # LPF in spatial domain\n",
    "        In64 *= 0                                                    # reset input accumulator\n",
    "    if t%32 == 0:                                                    # subsample AGC2 by factor 32\n",
    "        AGC2 = (1-c_AGC[2])*AGC2 + c_AGC[2]*(In32 + 2*AGC3)\n",
    "        AGC2 = sa[2]*roll(AGC2,1) + sc[2]*AGC2 + sb[2]*roll(AGC2,-1)\n",
    "        In64 += In32\n",
    "        In32 *= 0\n",
    "    if t%16 == 0:                                                    # subsample ACG3 by factor 16\n",
    "        AGC1 = (1-c_AGC[1])*AGC1 + c_AGC[1]*(In16 + 2*AGC2)\n",
    "        AGC1 = sa[1]*roll(AGC1,1) + sc[1]*AGC1 + sb[1]*roll(AGC1,-1)\n",
    "        In32 += In16\n",
    "        In16 *= 0\n",
    "    if t%8 == 0:\n",
    "        AGC0 = (1-c_AGC[0])*AGC0 + c_AGC[0]*(In8 + 2*AGC1)\n",
    "        AGC0 = sa[0]*roll(AGC0,1) + sc[0]*AGC0 + sb[0]*roll(AGC0,-1)\n",
    "        AGC[:,t] = AGC0                                              # store AGC output for plotting\n",
    "        b = AGC0\n",
    "        r = r1 + d_rz*(1-b)*NLF                                          # feedback to BM\n",
    "        g = (1-2*a0*r+r*r)/(1-(2*a0-h*c0)*r+r*r)                         # gain for BM\n",
    "        In16 += In8\n",
    "        In8 *= 0\n",
    "    else:\n",
    "        AGC[:,t] = AGC[:,t-1]\n",
    "\n",
    "\n",
    "# Now measure the frequency response of the cochlear filters\n",
    "# create a log-sine-sweep\n",
    "f0 = 10                                         # sweep start frequency\n",
    "f1 = fs/2                                       # sweep end frequency\n",
    "stimulus = 0.1*signal.chirp(t1, f0, t1[-1], f1, method='logarithmic', phi=-90)\n",
    "wl = 1000                                       # window length\n",
    "stimulus[:wl] *= sin(linspace(0,.5*pi,wl))      # ramp up start\n",
    "stimulus[-wl:] *= cos(linspace(0,.5*pi,wl))     # ramp down end\n",
    "\n",
    "\n",
    "# reset all these states\n",
    "W0 = zeros(nsec)              # BM filter internal state\n",
    "W1 = zeros(nsec)              # BM filter internal state\n",
    "W1old = zeros(nsec)           # BM filter internal state at t-1\n",
    "BM = zeros((nsec,npoints))    # BM displacement\n",
    "BM_hpf = zeros((nsec,npoints))# BM displacement high-pass filtered at 20Hz\n",
    "trans = ones(nsec)            # transmitter available\n",
    "IHC = zeros((nsec,npoints))   # IHC output\n",
    "IHCa = zeros((nsec,npoints))  # IHC filter internal state\n",
    "\n",
    "\n",
    "# now play sweep through cochlea while keeping b fixed to measure the frequency response\n",
    "BM[-1] = stimulus             # put stimulus at BM[-1] to provide input to BM[0]\n",
    "BM[-1,-1] = 0                 # hack to make BM_hpf[nsec-1,0] work\n",
    "for t in range(npoints):\n",
    "    for s in range(nsec):\n",
    "        W0new = BM[s-1,t] + r[s]*(a0[s]*W0[s] - c0[s]*W1[s])\n",
    "        W1[s] = r[s]*(a0[s]*W1[s] + c0[s]*W0[s])\n",
    "        W0[s] = W0new\n",
    "        BM[s,t] = g[s]*(BM[s-1,t] + h[s]*W1[s])\n",
    "    BM_hpf[:,t] = q*(BM_hpf[:,t-1] + BM[:,t] - BM[:,t-1])\n",
    "    z_int = (1 - (BM_hpf[:,t]+0.13)/4).clip(0)\n",
    "    z = ((z_int)**8).clip(0,1)\n",
    "    v_mem = 0.75*((1-z)**2)\n",
    "    IHC_new = v_mem*trans    \n",
    "    trans += c_in*(1-trans) - c_out*IHC_new   \n",
    "    IHCa[:,t] = (1-c_IHC)*IHCa[:,t-1] + c_IHC*IHC_new\n",
    "    IHC[:,t] = (1-c_IHC)*IHC[:,t-1] + c_IHC*IHCa[:,t]\n",
    "    v_OHC = W1 - W1old\n",
    "    W1old = W1.copy()\n",
    "    sqr=(v_OHC*scale+offset)**2\n",
    "    NLF= 1/(1 + (scale*v_OHC + offset)**2)\n",
    "    r = r1 + d_rz*(1-b)*NLF\n",
    "    g = (1-2*a0*r+r*r)/(1-(2*a0-h*c0)*r+r*r)\n",
    "\n",
    "\n",
    "# use the FFT of the stimulus and output directly to calculate the transfer function\n",
    "FL = ceil(log2(npoints))      # define FFT length\n",
    "output = BM_hpf               # use this signal as the output signal\n",
    "myFFT = fft(zeros((nsec,int(2**FL))))\n",
    "for s in range(nsec):\n",
    "    myFFT[s] = fft(output[s],int(2**FL))/fft(stimulus,int(2**FL))\n",
    "\n",
    "# calculate the BM impulse response\n",
    "IR = real(ifft(myFFT))\n",
    "IR[:,0] = zeros(nsec)         # remove artefact"
   ]
  },
  {
   "cell_type": "markdown",
   "metadata": {},
   "source": [
    "First we plot the same data as before: BM gain and phase response, impulse response and IHC output in response to the sweep:"
   ]
  },
  {
   "cell_type": "code",
   "execution_count": 2,
   "metadata": {},
   "outputs": [
    {
     "data": {
      "application/vnd.jupyter.widget-view+json": {
       "model_id": "e1ab8782e9c54957827f161af2c417f9",
       "version_major": 2,
       "version_minor": 0
      },
      "text/plain": [
       "Canvas(toolbar=Toolbar(toolitems=[('Home', 'Reset original view', 'home', 'home'), ('Back', 'Back to previous …"
      ]
     },
     "metadata": {},
     "output_type": "display_data"
    },
    {
     "data": {
      "application/vnd.jupyter.widget-view+json": {
       "model_id": "ed0c67bb9adb4cb897b510e2f008788d",
       "version_major": 2,
       "version_minor": 0
      },
      "text/plain": [
       "Canvas(toolbar=Toolbar(toolitems=[('Home', 'Reset original view', 'home', 'home'), ('Back', 'Back to previous …"
      ]
     },
     "metadata": {},
     "output_type": "display_data"
    },
    {
     "data": {
      "application/vnd.jupyter.widget-view+json": {
       "model_id": "ac2f43f67df14ef4ad269a663db4f360",
       "version_major": 2,
       "version_minor": 0
      },
      "text/plain": [
       "Canvas(toolbar=Toolbar(toolitems=[('Home', 'Reset original view', 'home', 'home'), ('Back', 'Back to previous …"
      ]
     },
     "metadata": {},
     "output_type": "display_data"
    }
   ],
   "source": [
    "# plot the data\n",
    "\n",
    "if fignum_exists(1): close(1)\n",
    "figure(1, figsize=(12,4)) # Bode plot of BM displacement \n",
    "ax1 = subplot(1,2,1)\n",
    "freq = linspace(0,fs/2,int((2**FL)/2))\n",
    "semilogx(freq,20*log10(abs(myFFT.T[0:int((2**FL)/2),:])+1e-10))\n",
    "title('BM gain (in dB)')\n",
    "ylim([-100,60])\n",
    "xlabel('f (in Hz)')\n",
    "ax2 = subplot(1,2,2,sharex=ax1)\n",
    "semilogx(freq,unwrap(angle(myFFT.T[0:int((2**FL)/2),:]),discont=5,axis=0))\n",
    "title('BM phase (in rad)')\n",
    "ylim([-5,2])\n",
    "xlabel('f (in Hz)')\n",
    "tight_layout()\n",
    "\n",
    "if fignum_exists(2): close(2)\n",
    "figure(2, figsize=(12,3)) # BM impulse response\n",
    "L=2000\n",
    "plot(arange(L)*1000/fs,IR[:,0:L].T)\n",
    "xlabel('t (in ms)')\n",
    "title('BM impulse response')\n",
    "tight_layout()\n",
    "\n",
    "if fignum_exists(3): close(3)\n",
    "figure(3, figsize=(12,3)) # IHC output\n",
    "plot(t1*1000,stimulus,'r')\n",
    "plot(t1*1000,IHC.T)\n",
    "xlabel('t (in ms)')\n",
    "title('IHC response')\n",
    "tight_layout()\n"
   ]
  },
  {
   "cell_type": "markdown",
   "metadata": {},
   "source": [
    "Next we plot the output of the AGC loop versus section number and time. The top figure shows the 3d version of this, and the bottom figure the cross sections. You can see that the output becomes stable after 0.4s of the presentation of the pure tone."
   ]
  },
  {
   "cell_type": "code",
   "execution_count": 3,
   "metadata": {},
   "outputs": [
    {
     "data": {
      "application/vnd.jupyter.widget-view+json": {
       "model_id": "da96d92f5664492f858a2bc7d3a7de11",
       "version_major": 2,
       "version_minor": 0
      },
      "text/plain": [
       "Canvas(toolbar=Toolbar(toolitems=[('Home', 'Reset original view', 'home', 'home'), ('Back', 'Back to previous …"
      ]
     },
     "metadata": {},
     "output_type": "display_data"
    },
    {
     "data": {
      "application/vnd.jupyter.widget-view+json": {
       "model_id": "101061fa52c54726924ac06f102905eb",
       "version_major": 2,
       "version_minor": 0
      },
      "text/plain": [
       "Canvas(toolbar=Toolbar(toolitems=[('Home', 'Reset original view', 'home', 'home'), ('Back', 'Back to previous …"
      ]
     },
     "metadata": {},
     "output_type": "display_data"
    },
    {
     "name": "stdout",
     "output_type": "stream",
     "text": [
      "(100, 32000)\n"
     ]
    }
   ],
   "source": [
    "if fignum_exists(4): close(4)\n",
    "fig = figure(4, figsize=(8,6))\n",
    "ax = fig.add_subplot(111, projection='3d')\n",
    "t = linspace(0,1,10,False)*dur\n",
    "X,Y = meshgrid(linspace(0,nsec,nsec,False),t)\n",
    "ax.plot_surface(X,Y,AGC[:,(t*fs).astype(int)].T, rstride=1, cstride=1, cmap=cm.jet, linewidth=0)\n",
    "ax.set_xlabel(\"section number\")\n",
    "ax.set_ylabel(\"Time (s)\")\n",
    "ax.set_zlabel(\"AGC output\")\n",
    "tight_layout()\n",
    "\n",
    "if fignum_exists(5): close(5)\n",
    "figure(5, figsize=(8,4))\n",
    "for t in range(10):\n",
    "    plot(AGC[:,int(t*npoints/10)], label=\"%0.2f\" % (t*npoints/10/fs), color=colorsys.hls_to_rgb(t/10.0, .5, .5))\n",
    "legend()\n",
    "title ('AGC output')\n",
    "xlabel('section number')\n",
    "tight_layout()\n",
    "print(AGC.shape)"
   ]
  },
  {
   "cell_type": "markdown",
   "metadata": {},
   "source": [
    "Finally, we plot the distribution of b across the sections at the end of the pure tone stimulation:"
   ]
  },
  {
   "cell_type": "code",
   "execution_count": 4,
   "metadata": {},
   "outputs": [
    {
     "data": {
      "application/vnd.jupyter.widget-view+json": {
       "model_id": "357eca2d74bf4ce6b6155f7c14fbad33",
       "version_major": 2,
       "version_minor": 0
      },
      "text/plain": [
       "Canvas(toolbar=Toolbar(toolitems=[('Home', 'Reset original view', 'home', 'home'), ('Back', 'Back to previous …"
      ]
     },
     "metadata": {},
     "output_type": "display_data"
    }
   ],
   "source": [
    "if fignum_exists(6): close(6)\n",
    "figure(6, figsize=(8,4))\n",
    "plot(b)\n",
    "title('b')\n",
    "xlabel('section number')\n",
    "tight_layout()"
   ]
  }
 ],
 "metadata": {
  "anaconda-cloud": {},
  "hide_input": false,
  "interpreter": {
   "hash": "dca0ade3e726a953b501b15e8e990130d2b7799f14cfd9f4271676035ebe5511"
  },
  "kernelspec": {
   "display_name": "Python 3.7.10 64-bit ('base': conda)",
   "name": "python3"
  },
  "language_info": {
   "codemirror_mode": {
    "name": "ipython",
    "version": 3
   },
   "file_extension": ".py",
   "mimetype": "text/x-python",
   "name": "python",
   "nbconvert_exporter": "python",
   "pygments_lexer": "ipython3",
   "version": "3.7.10"
  },
  "latex_envs": {
   "bibliofile": "biblio.bib",
   "cite_by": "apalike",
   "current_citInitial": 1,
   "eqLabelWithNumbers": true,
   "eqNumInitial": 0
  },
  "widgets": {
   "state": {},
   "version": "1.1.2"
  }
 },
 "nbformat": 4,
 "nbformat_minor": 1
}