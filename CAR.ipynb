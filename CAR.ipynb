{
 "cells": [
  {
   "cell_type": "markdown",
   "metadata": {},
   "source": [
    "CAR - Cascade of Asymmetric Resonators\n",
    "===\n",
    "\n",
    "The code below implements a model of the cochlea developed by Dick Lyon.\n",
    "\n",
    "It is described in detail in his [book](http://www.machinehearing.org). Page numbers in the code comments refer to the pages of this book."
   ]
  },
  {
   "cell_type": "markdown",
   "metadata": {},
   "source": [
    "The cochlear model is a cascade of resonators, modelling the properties of the Basilar Membrane (BM). The resonators all look like this:\n",
    "\n",
    "<img src=\"./images/CAR.png\" alt=\"CAR\" style=\"width: 300px;\"/>\n",
    "\n",
    "$X$ is the input of the section, coming from the sound source for the first section in the cascade, and from the output $Y$ of the previous section for each of the following sections.\n",
    "$a_0$ and $c_0$ are are the coefficients of the filter, controlling the resonant frequency of each section. The resonant frequency will be highest for the first section and drop exponentially along the cochlea.\n",
    "$r$ controls the radius of the poles and zeros and thus the damping.\n",
    "$h$ controls the distance between the poles and the zeros in the frequency domain.\n",
    "$g$ adjusts the dc gain."
   ]
  },
  {
   "cell_type": "code",
   "execution_count": 18,
   "metadata": {
    "collapsed": true
   },
   "outputs": [],
   "source": [
    "%matplotlib widget\n",
    "from pylab import *\n",
    "from scipy import signal"
   ]
  },
  {
   "cell_type": "markdown",
   "metadata": {},
   "source": [
    "First let's set the stimulation parameters:"
   ]
  },
  {
   "cell_type": "code",
   "execution_count": 19,
   "metadata": {
    "collapsed": true
   },
   "outputs": [],
   "source": [
    "fs = 32000.0                  # sample frequency\n",
    "dur = 2                       # simulation duration\n",
    "npoints = int(fs*dur)         # stimulus length"
   ]
  },
  {
   "cell_type": "markdown",
   "metadata": {},
   "source": [
    "Next, we create a log-sine-sweep using the *chirp* function from the *scipi.signal* library:"
   ]
  },
  {
   "cell_type": "code",
   "execution_count": 20,
   "metadata": {
    "collapsed": true
   },
   "outputs": [],
   "source": [
    "# create a log-sine-sweep\n",
    "f0 = 20                       # sweep start frequency\n",
    "f1 = 20000                    # sweep end frequency\n",
    "t1 = arange(npoints)/fs       # sample times\n",
    "stimulus = 0.9*signal.chirp(t1, f0, t1[-1], f1, method='logarithmic', phi=-90)"
   ]
  },
  {
   "cell_type": "markdown",
   "metadata": {},
   "source": [
    "And this is what it looks like:"
   ]
  },
  {
   "cell_type": "code",
   "execution_count": 21,
   "metadata": {},
   "outputs": [
    {
     "data": {
      "application/vnd.jupyter.widget-view+json": {
       "model_id": "f9e7533103484fb79769ea3413c61954",
       "version_major": 2,
       "version_minor": 0
      },
      "text/plain": [
       "Canvas(toolbar=Toolbar(toolitems=[('Home', 'Reset original view', 'home', 'home'), ('Back', 'Back to previous …"
      ]
     },
     "metadata": {},
     "output_type": "display_data"
    }
   ],
   "source": [
    "if fignum_exists(0): close(0)\n",
    "figure(0, figsize=(12,3))     # Sweep\n",
    "plot(t1*500,stimulus,'r')\n",
    "xlabel('t (in ms)')\n",
    "title('Input Signal');\n",
    "tight_layout()"
   ]
  },
  {
   "cell_type": "markdown",
   "metadata": {},
   "source": [
    "Now we define the number of cochlear filters and the range of Basilar Membrane positions to spread these filters over with equal spacing."
   ]
  },
  {
   "cell_type": "code",
   "execution_count": 22,
   "metadata": {
    "collapsed": true
   },
   "outputs": [],
   "source": [
    "nsec = 100                    # number of sections in the cochlea between\n",
    "xlow = 0.1                    # lowest frequency position along the cochlea and\n",
    "xhigh = 0.9                   # highest frequency position along the cochlea"
   ]
  },
  {
   "cell_type": "markdown",
   "metadata": {},
   "source": [
    "Once all these parameters are defined, we can calculate the parameters for the CAR model. The frequencies of the resonators are spaced according to the Greenwood formula, while the damping controls the poles. The choice of $h = c_0$ sets the zeros for each section about half an octave above the location of the poles. $g$ is calculated to provide 0dB gain at DC."
   ]
  },
  {
   "cell_type": "code",
   "execution_count": 23,
   "metadata": {
    "collapsed": true
   },
   "outputs": [],
   "source": [
    "x = linspace(xhigh,xlow,nsec) # position along the cochlea 1 = base, 0 = apex\n",
    "f = 165.4*(10**(2.1*x)-1)     # Greenwood for humans\n",
    "a0 = cos(2*pi*f/fs)           # a0 and c0 control the poles and zeros\n",
    "c0 = sin(2*pi*f/fs)\n",
    "\n",
    "damping = 0.2                 # damping factor\n",
    "r = 1 - damping*2*pi*f/fs     # pole & zero radius\n",
    "h = c0                        # p302 h=c0 puts the zeros 1/2 octave above poles\n",
    "g = (1-2*a0*r+r*r)/(1-(2*a0-h*c0)*r+r*r)  \n",
    "                              # p303 this gives 0dB DC gain for BM"
   ]
  },
  {
   "cell_type": "markdown",
   "metadata": {},
   "source": [
    "We also implement the Inner Hair Cell (IHC) model shown here:\n",
    "\n",
    "<img src=\"./images/IHC.png\" alt=\"IHC\" style=\"width: 800px;\"/>\n",
    "\n",
    "First, the output of the BM filters is high-pass filtered at about 20Hz before being passed through a nonlinearity. A feedback loop provides  gain adaptation that causes the IHC to respond more strongly to the onset of a stimulus than the sustained part of that stimulus. Finally, the output of the IHC is low pass filtered to reduce the IHC's response to frequencies above 8kHz. "
   ]
  },
  {
   "cell_type": "code",
   "execution_count": 24,
   "metadata": {
    "collapsed": true
   },
   "outputs": [],
   "source": [
    "f_hpf = 20                    # p328 20Hz corner for the BM HPF\n",
    "q = 1/(1+(2*pi*f_hpf/fs))     # corresponding IIR coefficient \n",
    "\n",
    "tau_in = 10e-3                # p329 transmitter creation time constant\n",
    "c_in = 1/(fs*tau_in)          # p329 corresponding IIR coefficient    \n",
    "tau_out = 0.5e-3              # p329 transmitter depletion time constant\n",
    "c_out = 1/(fs*tau_out)        # p329 corresponding IIR coefficient \n",
    "tau_IHC = 80e-6               # p329 ~8kHz LPF for IHC output\n",
    "c_IHC = 1/(fs*tau_IHC)        # corresponding IIR coefficient "
   ]
  },
  {
   "cell_type": "markdown",
   "metadata": {},
   "source": [
    "Before we run the simulation, we initialise the variables as needed."
   ]
  },
  {
   "cell_type": "code",
   "execution_count": 25,
   "metadata": {
    "collapsed": true
   },
   "outputs": [],
   "source": [
    "W0 = zeros(nsec)              # BM filter internal state\n",
    "W1 = zeros(nsec)              # BM filter internal state\n",
    "W1old = zeros(nsec)           # BM filter internal state at t-1\n",
    "BM = zeros((nsec,npoints))    # BM displacement\n",
    "BM_hpf = zeros((nsec,npoints))# BM displacement high-pass filtered at 20Hz\n",
    "trans = ones(nsec)            # transmitter available\n",
    "IHC = zeros((nsec,npoints))   # IHC output\n",
    "IHCa = zeros((nsec,npoints))  # IHC filter internal state\n",
    "BM[-1] = stimulus             # put stimulus at BM[-1] to provide input to BM[0]\n",
    "BM[-1,-1] = 0                 # hack to make BM_hpf[nsec-1,0] work"
   ]
  },
  {
   "cell_type": "markdown",
   "metadata": {},
   "source": [
    "Finally we simulate the whole system for each sample time and for all cochlear sections."
   ]
  },
  {
   "cell_type": "code",
   "execution_count": 26,
   "metadata": {
    "collapsed": true
   },
   "outputs": [],
   "source": [
    "for t in range(npoints):\n",
    "    for s in range(nsec):\n",
    "        W0new = BM[s-1,t] + r[s]*(a0[s]*W0[s] - c0[s]*W1[s])\n",
    "        W1[s] = r[s]*(a0[s]*W1[s] + c0[s]*W0[s])\n",
    "        W0[s] = W0new\n",
    "        BM[s,t] = g[s]*(BM[s-1,t] + h[s]*W1[s])\n",
    "        \n",
    "    BM_hpf[:,t] = q*(BM_hpf[:,t-1] + BM[:,t] - BM[:,t-1])\n",
    "    z = (BM_hpf[:,t]+0.175).clip(0)   # p328\n",
    "    v_mem = z**3/(z**3+z**2+0.1)      # p328\n",
    "    IHC_new = v_mem*trans             # p329\n",
    "    trans += c_in*(1-trans) - c_out*IHC_new   \n",
    "    IHCa[:,t] = (1-c_IHC)*IHCa[:,t-1] + c_IHC*IHC_new\n",
    "    IHC[:,t] = (1-c_IHC)*IHC[:,t-1] + c_IHC*IHCa[:,t]"
   ]
  },
  {
   "cell_type": "markdown",
   "metadata": {},
   "source": [
    "After playing the sweep signal through the cochlea, i.e., using it as the stimulus and simulating all time steps, we can get the frequency response and phase response of each cochlear filter by calculating:"
   ]
  },
  {
   "cell_type": "code",
   "execution_count": 27,
   "metadata": {
    "collapsed": true
   },
   "outputs": [],
   "source": [
    "# play the stimulus through the system and measure the output\n",
    "output = BM_hpf\n",
    "\n",
    "# use the FFT of the stimulus and output directly to calculate the transfer function\n",
    "myFFT = fft(zeros((nsec,npoints)))\n",
    "for s in range(nsec):\n",
    "    myFFT[s] = (fft(output[s])/fft(stimulus))\n",
    "    "
   ]
  },
  {
   "cell_type": "code",
   "execution_count": 28,
   "metadata": {},
   "outputs": [
    {
     "data": {
      "application/vnd.jupyter.widget-view+json": {
       "model_id": "1e90fc7cb0604f1a8345cb588a2af236",
       "version_major": 2,
       "version_minor": 0
      },
      "text/plain": [
       "Canvas(toolbar=Toolbar(toolitems=[('Home', 'Reset original view', 'home', 'home'), ('Back', 'Back to previous …"
      ]
     },
     "metadata": {},
     "output_type": "display_data"
    }
   ],
   "source": [
    "if fignum_exists(1): close(1)\n",
    "fig = figure(1, figsize=(12,4)) # Bode plot of BM displacement \n",
    "ax1 = subplot(1,2,1)\n",
    "freq = linspace(0,fs//2,(npoints)//2)\n",
    "semilogx(freq,20*log10(abs(myFFT.T[:npoints//2,:])+1e-10))  # note, 1e-10 offset to avoid division by zero in log10\n",
    "title('BM gain (in dB)')\n",
    "ylim([-100, 60])\n",
    "xlabel('f (in Hz)')\n",
    "ax2 = subplot(1,2,2,sharex=ax1)\n",
    "semilogx(freq,unwrap(angle(myFFT.T[0:npoints//2,:]),discont=5,axis=0))\n",
    "title('BM phase (in rad)')\n",
    "ylim([-5, 2])\n",
    "xlabel('f (in Hz)')\n",
    "tight_layout()"
   ]
  },
  {
   "cell_type": "markdown",
   "metadata": {},
   "source": [
    "From this, we can also determine the impulse response of each filter."
   ]
  },
  {
   "cell_type": "code",
   "execution_count": 29,
   "metadata": {},
   "outputs": [
    {
     "data": {
      "application/vnd.jupyter.widget-view+json": {
       "model_id": "633fa06db4a347c28d745fd91b0d0ae1",
       "version_major": 2,
       "version_minor": 0
      },
      "text/plain": [
       "Canvas(toolbar=Toolbar(toolitems=[('Home', 'Reset original view', 'home', 'home'), ('Back', 'Back to previous …"
      ]
     },
     "metadata": {},
     "output_type": "display_data"
    }
   ],
   "source": [
    "# calculate the BM impulse response\n",
    "IR = real(ifft(myFFT))\n",
    "IR[:,0] = zeros(nsec)   #remove artefact\n",
    "\n",
    "if fignum_exists(2): close(2)\n",
    "figure(2, figsize=(12,4)) # BM impulse response\n",
    "L=600\n",
    "plot(arange(L)*1000/fs,IR[:,0:L].T)\n",
    "xlabel('t (in ms)')\n",
    "title('BM impulse response')\n",
    "tight_layout()"
   ]
  },
  {
   "cell_type": "markdown",
   "metadata": {},
   "source": [
    "Finally, we plot the output of the IHC."
   ]
  },
  {
   "cell_type": "code",
   "execution_count": 30,
   "metadata": {},
   "outputs": [
    {
     "data": {
      "application/vnd.jupyter.widget-view+json": {
       "model_id": "3973127b3d3343b2acafd846fb92b5b3",
       "version_major": 2,
       "version_minor": 0
      },
      "text/plain": [
       "Canvas(toolbar=Toolbar(toolitems=[('Home', 'Reset original view', 'home', 'home'), ('Back', 'Back to previous …"
      ]
     },
     "metadata": {},
     "output_type": "display_data"
    }
   ],
   "source": [
    "if fignum_exists(3): close(3)\n",
    "figure(3, figsize=(12,4)) # IHC output\n",
    "plot(t1*1000,stimulus,'r')\n",
    "plot(t1*1000,IHC.T*2.0)\n",
    "xlabel('t (in ms)')\n",
    "title('IHC response')\n",
    "tight_layout()"
   ]
  },
  {
   "cell_type": "markdown",
   "metadata": {},
   "source": [
    "Note that at the start of the sweep, i.e., for the lowest input frequencies, you can clearly see the stronger response of the IHC to the start of the positive excursion of the sine wave, than to the later part. Also, as the sweep moves through the frequencies, one IHC after another reaches a maximum response, depending on which cochlear channel they are attached to. If we zoom in around 500ms we see this more clearly, with first the green channel, then the blue channel, and then the black channel (etc.) having the strongest response."
   ]
  },
  {
   "cell_type": "code",
   "execution_count": 31,
   "metadata": {},
   "outputs": [
    {
     "data": {
      "application/vnd.jupyter.widget-view+json": {
       "model_id": "f829909bc02e4a50857d02d455fa5f39",
       "version_major": 2,
       "version_minor": 0
      },
      "text/plain": [
       "Canvas(toolbar=Toolbar(toolitems=[('Home', 'Reset original view', 'home', 'home'), ('Back', 'Back to previous …"
      ]
     },
     "metadata": {},
     "output_type": "display_data"
    }
   ],
   "source": [
    "if fignum_exists(4): close(4)\n",
    "figure(4, figsize=(12,4)) # IHC output\n",
    "plot(t1[15000:20000]*1000,stimulus[15000:20000],'r')\n",
    "plot(t1[15000:20000]*1000,IHC[:,15000:20000].T*2.0)\n",
    "xlabel('t (in ms)')\n",
    "title('IHC response')\n",
    "tight_layout()"
   ]
  }
 ],
 "metadata": {
  "anaconda-cloud": {},
  "hide_input": false,
  "interpreter": {
   "hash": "dca0ade3e726a953b501b15e8e990130d2b7799f14cfd9f4271676035ebe5511"
  },
  "kernelspec": {
   "display_name": "Python 3.7.10 64-bit ('base': conda)",
   "name": "python3"
  },
  "language_info": {
   "codemirror_mode": {
    "name": "ipython",
    "version": 3
   },
   "file_extension": ".py",
   "mimetype": "text/x-python",
   "name": "python",
   "nbconvert_exporter": "python",
   "pygments_lexer": "ipython3",
   "version": "3.7.10"
  },
  "latex_envs": {
   "bibliofile": "biblio.bib",
   "cite_by": "apalike",
   "current_citInitial": 1,
   "eqLabelWithNumbers": true,
   "eqNumInitial": 0
  },
  "widgets": {
   "state": {},
   "version": "1.1.2"
  }
 },
 "nbformat": 4,
 "nbformat_minor": 1
}