{
 "cells": [
  {
   "cell_type": "markdown",
   "metadata": {},
   "source": [
    "CAR FAC - Cascade of Asymmetric Resonators with Fast Acting Compression\n",
    "===\n",
    "\n",
    "The code below implements a model of the cochlea developed by Dick Lyon.\n",
    "\n",
    "It is described in detail in his [book](http://www.machinehearing.org). Page numbers in the code comments refer to the pages of this book.\n"
   ]
  },
  {
   "cell_type": "markdown",
   "metadata": {},
   "source": [
    "Following on from the previous notebook on [the CAR model](http://nbviewer.ipython.org/github/vschaik/CARFAC/blob/master/CAR.ipynb), we now incorporate the Outer Hair Cell model in the Basilar membrane too. To do so, we update the BM resontator to look like this:\n",
    "\n",
    "<img src=\"./images/BM-OHC.png\" alt=\"BM-OHC\" style=\"width: 600px;\">\n",
    "\n",
    "As before $X$ is the input of the section, coming from the sound source for the first section in the cascade, and from the output $Y$ of the previous section for each of the following sections.\n",
    "$a_0$ and $c_0$ are are the coefficients of the filter, controlling the resonant frequency of each section. The resonant frequency will be highest for the first section and drop exponentially along the cochlea.\n",
    "$h$ controls the distance between the poles and the zeros in the frequency domain.\n",
    "$g$ adjusts the dc gain.\n",
    "\n",
    "What is different is that now $r$, which controls the radius of the poles and zeros and thus the damping, is now modified online by the OHC model. First, the temporal derivative of the BM displacement is taken to calculate the BM velocity $v$ and then passed through a nonlinear function. The output of this function is multiplied by $d_{rz}(1-b)$ where $b$ is a static parameter between 0 and 1 for the moment. This signal then modifies $r$ from its minimum value $r_1$. The nonlinear function is such that $r$ increases as $v$ decreases.\n"
   ]
  },
  {
   "cell_type": "code",
   "execution_count": 26,
   "metadata": {},
   "outputs": [],
   "source": [
    "%matplotlib widget\n",
    "from pylab import *\n",
    "from scipy import signal"
   ]
  },
  {
   "cell_type": "markdown",
   "metadata": {},
   "source": [
    "First let's set the stimulation parameters:"
   ]
  },
  {
   "cell_type": "code",
   "execution_count": 27,
   "metadata": {},
   "outputs": [],
   "source": [
    "fs = 32000.0                  # sample frequency\n",
    "dur = 2                       # simulation duration\n",
    "npoints = int(fs*dur)         # stimulus length"
   ]
  },
  {
   "cell_type": "markdown",
   "metadata": {},
   "source": [
    "Next, we create a log-sine-sweep using the *chirp* function from the *scipi.signal* library:"
   ]
  },
  {
   "cell_type": "code",
   "execution_count": 28,
   "metadata": {},
   "outputs": [],
   "source": [
    "# create a log-sine-sweep\n",
    "f0 = 20                       # sweep start frequency\n",
    "f1 = 20000                    # sweep end frequency\n",
    "t1 = arange(npoints)/fs       # sample times\n",
    "gain = 1.0                    # gain of input signal\n",
    "stimulus = gain*signal.chirp(t1, f0, t1[-1], f1, method='logarithmic', phi=-90)"
   ]
  },
  {
   "cell_type": "markdown",
   "metadata": {},
   "source": [
    "Now we define the number of cochlear filters and the range of Basilar Membrane positions to spread these filters over with equal spacing."
   ]
  },
  {
   "cell_type": "code",
   "execution_count": 29,
   "metadata": {},
   "outputs": [],
   "source": [
    "nsec = 100                    # number of sections in the cochlea between\n",
    "xlow = 0.1                    # lowest frequency position along the cochlea and\n",
    "xhigh = 0.9                   # highest frequency position along the cochlea"
   ]
  },
  {
   "cell_type": "markdown",
   "metadata": {},
   "source": [
    "Once all these parameters are defined, we can calculate the parameters for the CAR model. The frequencies of the resonators are spaced according to the Greenwood formula, while the damping controls the poles. The choice of $h = c_0$ sets the zeros for each section about half an octave above the location of the poles. $g$ is calculated to provide 0dB gain at DC."
   ]
  },
  {
   "cell_type": "code",
   "execution_count": 30,
   "metadata": {},
   "outputs": [],
   "source": [
    "x = linspace(xhigh,xlow,nsec) # position along the cochlea 1 = base, 0 = apex\n",
    "f = 165.4*(10**(2.1*x)-1)     # Greenwood for humans\n",
    "a0 = cos(2*pi*f/fs)           # a0 and c0 control the poles and zeros\n",
    "c0 = sin(2*pi*f/fs)\n",
    "\n",
    "damping = 0.2                 # damping factor\n",
    "r = 1 - damping*2*pi*f/fs     # pole & zero radius (actual)\n",
    "r1 = 1 - damping*2*pi*f/fs    # pole & zero radius minimum (set point)\n",
    "h = c0                        # p302 h=c0 puts the zeros 1/2 octave above poles\n",
    "g = (1-2*a0*r+r*r)/(1-(2*a0-h*c0)*r+r*r)  \n",
    "                              # p303 this gives 0dB DC gain for BM"
   ]
  },
  {
   "cell_type": "markdown",
   "metadata": {},
   "source": [
    "Now we also need parameters for the OHC part:"
   ]
  },
  {
   "cell_type": "code",
   "execution_count": 31,
   "metadata": {},
   "outputs": [],
   "source": [
    "scale = 0.1                   # p313 NLF parameter\n",
    "offset = 0.04                 # p313 NLF parameter\n",
    "b = 1.0                       # automatic gain loop feedback (1=no undamping).\n",
    "d_rz = 0.7*(1 - r1)           # p310 relative undamping"
   ]
  },
  {
   "cell_type": "markdown",
   "metadata": {},
   "source": [
    "From the block diagram at the top, we can see that the feedback signal is multiplied by $(1 - b)$ so that when $b = 1$, the feedback loop is effectively turned off. We'll start with this to verify that the code runs as in the previous notebook.\n",
    "\n",
    "We also implement the Inner Hair Cell (IHC) model shown here:\n",
    "\n",
    "<img src=\"./images/IHC.png\" alt=\"IHC\" style=\"width: 800px;\">\n",
    "\n",
    "First, the output of the BM filters is high-pass filtered at about 20Hz before being passed through a nonlinearity. A feedback loop provides  gain adaptation that causes the IHC to respond more strongly to the onset of a stimulus than the sustained part of that stimulus. Finally, the output of the IHC is low pass filtered to reduce the IHC's response to frequencies above 8kHz. "
   ]
  },
  {
   "cell_type": "code",
   "execution_count": 32,
   "metadata": {},
   "outputs": [],
   "source": [
    "f_hpf = 20                    # p328 20Hz corner for the BM HPF\n",
    "q = 1/(1+(2*pi*f_hpf/fs))     # corresponding IIR coefficient \n",
    "\n",
    "tau_in = 10e-3                # p329 transmitter creation time constant\n",
    "c_in = 1/(fs*tau_in)          # p329 corresponding IIR coefficient    \n",
    "tau_out = 0.5e-3              # p329 transmitter depletion time constant\n",
    "c_out = 1/(fs*tau_out)        # p329 corresponding IIR coefficient \n",
    "tau_IHC = 80e-6               # p329 ~8kHz LPF for IHC output\n",
    "c_IHC = 1/(fs*tau_IHC)        # corresponding IIR coefficient "
   ]
  },
  {
   "cell_type": "markdown",
   "metadata": {},
   "source": [
    "Before we run the simulation, we initialise the variables as needed."
   ]
  },
  {
   "cell_type": "code",
   "execution_count": 33,
   "metadata": {},
   "outputs": [],
   "source": [
    "W0 = zeros(nsec)              # BM filter internal state\n",
    "W1 = zeros(nsec)              # BM filter internal state\n",
    "W1old = zeros(nsec)           # BM filter internal state at t-1\n",
    "BM = zeros((nsec,npoints))    # BM displacement\n",
    "BM_hpf = zeros((nsec,npoints))# BM displacement high-pass filtered at 20Hz\n",
    "trans = ones(nsec)            # transmitter available\n",
    "IHC = zeros((nsec,npoints))   # IHC output\n",
    "IHCa = zeros((nsec,npoints))  # IHC filter internal state\n",
    "BM[-1] = stimulus             # put stimulus at BM[-1] to provide input to BM[0]\n",
    "BM[-1,-1] = 0                 # hack to make BM_hpf[nsec-1,0] work"
   ]
  },
  {
   "cell_type": "markdown",
   "metadata": {},
   "source": [
    "Finally we simulated the whole system for each sample time and for all cochlear sections."
   ]
  },
  {
   "cell_type": "code",
   "execution_count": 34,
   "metadata": {},
   "outputs": [],
   "source": [
    "for t in range(npoints):\n",
    "    for s in range(nsec):\n",
    "        W0new = BM[s-1,t] + r[s]*(a0[s]*W0[s] - c0[s]*W1[s])\n",
    "        W1[s] = r[s]*(a0[s]*W1[s] + c0[s]*W0[s])\n",
    "        W0[s] = W0new\n",
    "        BM[s,t] = g[s]*(BM[s-1,t] + h[s]*W1[s])\n",
    "    BM_hpf[:,t] = q*(BM_hpf[:,t-1] + BM[:,t] - BM[:,t-1])\n",
    "    z = (BM_hpf[:,t]+0.175).clip(0)   # p328\n",
    "    v_mem = z**3/(z**3+z**2+0.1)      # p328\n",
    "    IHC_new = v_mem*trans    \n",
    "    trans += c_in*(1-trans) - c_out*IHC_new   \n",
    "    IHCa[:,t] = (1-c_IHC)*IHCa[:,t-1] + c_IHC*IHC_new\n",
    "    IHC[:,t] = (1-c_IHC)*IHC[:,t-1] + c_IHC*IHCa[:,t]\n",
    "    v_OHC = W1 - W1old\n",
    "    W1old = W1.copy()\n",
    "    sqr=(v_OHC*scale+offset)**2\n",
    "    NLF= 1/(1 + (scale*v_OHC + offset)**2)\n",
    "    r = r1 + d_rz*(1-b)*NLF\n",
    "    g = (1-2*a0*r+r*r)/(1-(2*a0-h*c0)*r+r*r)"
   ]
  },
  {
   "cell_type": "markdown",
   "metadata": {},
   "source": [
    "After playing the sweep signal through the cochlea, i.e., using it as the stimulus and simulating all time steps, we can get the frequency response and phase response of each cochlear filter by calculating:"
   ]
  },
  {
   "cell_type": "code",
   "execution_count": 35,
   "metadata": {},
   "outputs": [],
   "source": [
    "# play the stimulus through the system and measure the output\n",
    "output = BM_hpf\n",
    "\n",
    "# use the FFT of the stimulus and output directly to calculate the transfer function\n",
    "myFFT = fft(zeros((nsec,npoints)))\n",
    "for s in range(nsec):\n",
    "    myFFT[s] = (fft(output[s])/fft(stimulus))\n",
    "    "
   ]
  },
  {
   "cell_type": "code",
   "execution_count": null,
   "metadata": {},
   "outputs": [],
   "source": []
  },
  {
   "cell_type": "code",
   "execution_count": 36,
   "metadata": {},
   "outputs": [
    {
     "data": {
      "application/vnd.jupyter.widget-view+json": {
       "model_id": "da1e8fe1bbc84809a27e7bd3c095b34d",
       "version_major": 2,
       "version_minor": 0
      },
      "text/plain": [
       "Canvas(toolbar=Toolbar(toolitems=[('Home', 'Reset original view', 'home', 'home'), ('Back', 'Back to previous …"
      ]
     },
     "metadata": {},
     "output_type": "display_data"
    },
    {
     "data": {
      "application/vnd.jupyter.widget-view+json": {
       "model_id": "a0e5692ba33a4d61bca2c42ff8206b1b",
       "version_major": 2,
       "version_minor": 0
      },
      "text/plain": [
       "Canvas(toolbar=Toolbar(toolitems=[('Home', 'Reset original view', 'home', 'home'), ('Back', 'Back to previous …"
      ]
     },
     "metadata": {},
     "output_type": "display_data"
    }
   ],
   "source": [
    "if fignum_exists(1): close(1)\n",
    "fig1 = figure(1, figsize=(12,4)) # Bode plot of BM displacement \n",
    "ax1 = fig1.add_subplot(1,2,1)\n",
    "freq = linspace(0,fs//2,npoints//2)\n",
    "semilogx(freq,20*log10(abs(myFFT.T[0:npoints//2,:])+1e-10))  # note, 1e-10 offset to avoid division by zero in log10\n",
    "title('BM gain (in dB)')\n",
    "ylim([-100,60])\n",
    "xlabel('f (in Hz)')\n",
    "ax2 = subplot(1,2,2,sharex=ax1)\n",
    "semilogx(freq,unwrap(angle(myFFT.T[0:npoints//2,:]),discont=5,axis=0))\n",
    "title('BM phase (in rad)')\n",
    "ylim([-5,2])\n",
    "xlabel('f (in Hz)')\n",
    "tight_layout()\n",
    "\n",
    "if fignum_exists(2): close(2)\n",
    "figure(2, figsize=(12,3)) # IHC output\n",
    "plot(t1*1000,stimulus,'r')\n",
    "plot(t1*1000,IHC.T*2.0)\n",
    "xlabel('t (in ms)')\n",
    "title('IHC response')\n",
    "tight_layout()"
   ]
  },
  {
   "cell_type": "markdown",
   "metadata": {},
   "source": [
    "So indeed, the output looks as before without the OHCs. Now we will turn them on. Since the OHCs will reduce damping by increasing the radius of the poles and zeros, we will have to start with a much lower base radius and thus increase our initial damping. Also we will have to change the gain of the OHC feedback loop by controling $b$. Finally, in order to see the effect of the OHCs, we will need to play the input signal at different levels. Thus, the parameters we will play with are:"
   ]
  },
  {
   "cell_type": "code",
   "execution_count": 37,
   "metadata": {},
   "outputs": [],
   "source": [
    "gain = 1.0                    # gain of input signal\n",
    "b = 0.5                       # automatic gain loop feedback (1=no undamping).\n",
    "damping = 0.4                 # damping factor"
   ]
  },
  {
   "cell_type": "markdown",
   "metadata": {},
   "source": [
    "Here we have kept the input gain the same, activated the OHC loop with a gain of 0.5 and inceased the damping to 0.4. These changes mean we have to recalculate the following too:"
   ]
  },
  {
   "cell_type": "code",
   "execution_count": 38,
   "metadata": {},
   "outputs": [],
   "source": [
    "stimulus = gain*signal.chirp(t1, f0, t1[-1], f1, method='logarithmic', phi=-90)\n",
    "r = 1 - damping*2*pi*f/fs     # pole & zero radius (actual)\n",
    "r1 = 1 - damping*2*pi*f/fs    # pole & zero radius minimum (set point)\n",
    "g = (1-2*a0*r+r*r)/(1-(2*a0-h*c0)*r+r*r)  \n",
    "d_rz = 0.7*(damping*2*pi*f/fs)# relative damping"
   ]
  },
  {
   "cell_type": "markdown",
   "metadata": {},
   "source": [
    "If we rerun the cochlea with these settings we get:"
   ]
  },
  {
   "cell_type": "code",
   "execution_count": 39,
   "metadata": {},
   "outputs": [
    {
     "data": {
      "application/vnd.jupyter.widget-view+json": {
       "model_id": "f8c0f421d2cd455c97bf3c4043b774a3",
       "version_major": 2,
       "version_minor": 0
      },
      "text/plain": [
       "Canvas(toolbar=Toolbar(toolitems=[('Home', 'Reset original view', 'home', 'home'), ('Back', 'Back to previous …"
      ]
     },
     "metadata": {},
     "output_type": "display_data"
    },
    {
     "data": {
      "application/vnd.jupyter.widget-view+json": {
       "model_id": "72bf09cc2a314ad6a5a2f40255679d04",
       "version_major": 2,
       "version_minor": 0
      },
      "text/plain": [
       "Canvas(toolbar=Toolbar(toolitems=[('Home', 'Reset original view', 'home', 'home'), ('Back', 'Back to previous …"
      ]
     },
     "metadata": {},
     "output_type": "display_data"
    }
   ],
   "source": [
    "W0 = zeros(nsec)              # BM filter internal state\n",
    "W1 = zeros(nsec)              # BM filter internal state\n",
    "W1old = zeros(nsec)           # BM filter internal state at t-1\n",
    "BM = zeros((nsec,npoints))    # BM displacement\n",
    "BM_hpf = zeros((nsec,npoints))# BM displacement high-pass filtered at 20Hz\n",
    "trans = ones(nsec)            # transmitter available\n",
    "IHC = zeros((nsec,npoints))   # IHC output\n",
    "IHCa = zeros((nsec,npoints))  # IHC filter internal state\n",
    "BM[-1] = stimulus             # put stimulus at BM[-1] to provide input to BM[0]\n",
    "BM[-1,-1] = 0                 # hack to make BM_hpf[nsec-1,0] work\n",
    "\n",
    "for t in range(npoints):\n",
    "    for s in range(nsec):\n",
    "        W0new = BM[s-1,t] + r[s]*(a0[s]*W0[s] - c0[s]*W1[s])\n",
    "        W1[s] = r[s]*(a0[s]*W1[s] + c0[s]*W0[s])\n",
    "        W0[s] = W0new\n",
    "        BM[s,t] = g[s]*(BM[s-1,t] + h[s]*W1[s])\n",
    "    BM_hpf[:,t] = q*(BM_hpf[:,t-1] + BM[:,t] - BM[:,t-1])\n",
    "    z_int = (1 - (BM_hpf[:,t]+0.13)/4).clip(0)\n",
    "    z = ((z_int)**8).clip(0,1)\n",
    "    v_mem = 0.75*((1-z)**2)\n",
    "    IHC_new = v_mem*trans    \n",
    "    trans += c_in*(1-trans) - c_out*IHC_new   \n",
    "    IHCa[:,t] = (1-c_IHC)*IHCa[:,t-1] + c_IHC*IHC_new\n",
    "    IHC[:,t] = (1-c_IHC)*IHC[:,t-1] + c_IHC*IHCa[:,t]\n",
    "    v_OHC = W1 - W1old\n",
    "    W1old = W1.copy()\n",
    "    sqr=(v_OHC*scale+offset)**2\n",
    "    NLF= 1/(1 + (scale*v_OHC + offset)**2)\n",
    "    r = r1 + d_rz*(1-b)*NLF\n",
    "    g = (1-2*a0*r+r*r)/(1-(2*a0-h*c0)*r+r*r)\n",
    "    \n",
    "myFFT = fft(zeros((nsec,npoints)))\n",
    "for s in range(nsec):\n",
    "    myFFT[s] = (fft(BM_hpf[s])/fft(stimulus))\n",
    "\n",
    "if fignum_exists(3): close(3)\n",
    "figure(3, figsize=(12,4)) # Bode plot of BM displacement \n",
    "ax1 = subplot(1,2,1)\n",
    "freq = linspace(0,fs/2,npoints//2)\n",
    "semilogx(freq,20*log10(abs(myFFT.T[0:npoints//2,:])))\n",
    "title('BM gain (in dB)')\n",
    "ylim([-100,60])\n",
    "xlabel('f (in Hz)')\n",
    "ax2 = subplot(1,2,2,sharex=ax1)\n",
    "semilogx(freq,unwrap(angle(myFFT.T[0:npoints//2,:]),discont=5,axis=0))\n",
    "title('BM phase (in rad)')\n",
    "ylim([-5,2])\n",
    "xlabel('f (in Hz)')\n",
    "tight_layout()\n",
    "\n",
    "if fignum_exists(4): close(4)\n",
    "figure(4, figsize=(12,3))     # IHC output\n",
    "plot(t1*1000,stimulus,'r')\n",
    "plot(t1*1000,IHC.T*2.0)\n",
    "xlabel('t (in ms)')\n",
    "title('IHC response')\n",
    "tight_layout()"
   ]
  },
  {
   "cell_type": "markdown",
   "metadata": {},
   "source": [
    "If we now reduce the level of the input signal we'll see that the gain increases:"
   ]
  },
  {
   "cell_type": "code",
   "execution_count": 40,
   "metadata": {
    "scrolled": false
   },
   "outputs": [
    {
     "data": {
      "application/vnd.jupyter.widget-view+json": {
       "model_id": "c8f7ddec5716452a8af14bfcbc142445",
       "version_major": 2,
       "version_minor": 0
      },
      "text/plain": [
       "Canvas(toolbar=Toolbar(toolitems=[('Home', 'Reset original view', 'home', 'home'), ('Back', 'Back to previous …"
      ]
     },
     "metadata": {},
     "output_type": "display_data"
    }
   ],
   "source": [
    "gain = 0.01                   # gain of input signal\n",
    "b = 0.5                       # automatic gain loop feedback (1=no undamping).\n",
    "damping = 0.4                 # damping factor\n",
    "\n",
    "stimulus = gain*signal.chirp(t1, f0, t1[-1], f1, method='logarithmic', phi=-90)\n",
    "r = 1 - damping*2*pi*f/fs     # pole & zero radius (actual)\n",
    "r1 = 1 - damping*2*pi*f/fs    # pole & zero radius minimum (set point)\n",
    "g = (1-2*a0*r+r*r)/(1-(2*a0-h*c0)*r+r*r)  \n",
    "d_rz = 0.7*(damping*2*pi*f/fs)# OHC gain\n",
    "\n",
    "W0 = zeros(nsec)              # BM filter internal state\n",
    "W1 = zeros(nsec)              # BM filter internal state\n",
    "W1old = zeros(nsec)           # BM filter internal state at t-1\n",
    "BM = zeros((nsec,npoints))    # BM displacement\n",
    "BM_hpf = zeros((nsec,npoints))# BM displacement high-pass filtered at 20Hz\n",
    "trans = ones(nsec)            # transmitter available\n",
    "IHC = zeros((nsec,npoints))   # IHC output\n",
    "IHCa = zeros((nsec,npoints))  # IHC filter internal state\n",
    "BM[-1] = stimulus             # put stimulus at BM[-1] to provide input to BM[0]\n",
    "BM[-1,-1] = 0                 # hack to make BM_hpf[nsec-1,0] work\n",
    "\n",
    "for t in range(npoints):\n",
    "    for s in range(nsec):\n",
    "        W0new = BM[s-1,t] + r[s]*(a0[s]*W0[s] - c0[s]*W1[s])\n",
    "        W1[s] = r[s]*(a0[s]*W1[s] + c0[s]*W0[s])\n",
    "        W0[s] = W0new\n",
    "        BM[s,t] = g[s]*(BM[s-1,t] + h[s]*W1[s])\n",
    "    BM_hpf[:,t] = q*(BM_hpf[:,t-1] + BM[:,t] - BM[:,t-1])\n",
    "    z_int = (1 - (BM_hpf[:,t]+0.13)/4).clip(0)\n",
    "    z = ((z_int)**8).clip(0,1)\n",
    "    v_mem = 0.75*((1-z)**2)\n",
    "    IHC_new = v_mem*trans    \n",
    "    trans += c_in*(1-trans) - c_out*IHC_new   \n",
    "    IHCa[:,t] = (1-c_IHC)*IHCa[:,t-1] + c_IHC*IHC_new\n",
    "    IHC[:,t] = (1-c_IHC)*IHC[:,t-1] + c_IHC*IHCa[:,t]\n",
    "    v_OHC = W1 - W1old\n",
    "    W1old = W1.copy()\n",
    "    sqr=(v_OHC*scale+offset)**2\n",
    "    NLF= 1/(1 + (scale*v_OHC + offset)**2)\n",
    "    r = r1 + d_rz*(1-b)*NLF\n",
    "    g = (1-2*a0*r+r*r)/(1-(2*a0-h*c0)*r+r*r)\n",
    "    \n",
    "myFFT = fft(zeros((nsec,npoints)))\n",
    "for s in range(nsec):\n",
    "    myFFT[s] = (fft(BM_hpf[s])/fft(stimulus))\n",
    "\n",
    "if fignum_exists(5): close(5)\n",
    "fig = figure(5, figsize=(12,4)) # Bode plot of BM displacement \n",
    "ax1 = subplot(1,2,1)\n",
    "freq = linspace(0,fs/2,npoints//2)\n",
    "semilogx(freq,20*log10(abs(myFFT.T[0:npoints//2,:])))\n",
    "title('BM gain (in dB)')\n",
    "ylim([-100,60])\n",
    "xlabel('f (in Hz)')\n",
    "ax2 = subplot(1,2,2,sharex=ax1)\n",
    "semilogx(freq,unwrap(angle(myFFT.T[0:npoints//2,:]),discont=5,axis=0))\n",
    "title('BM phase (in rad)')\n",
    "ylim([-5,2])\n",
    "xlabel('f (in Hz)')\n",
    "tight_layout()"
   ]
  }
 ],
 "metadata": {
  "anaconda-cloud": {},
  "hide_input": false,
  "interpreter": {
   "hash": "dca0ade3e726a953b501b15e8e990130d2b7799f14cfd9f4271676035ebe5511"
  },
  "kernelspec": {
   "display_name": "Python 3.7.10 64-bit ('base': conda)",
   "name": "python3"
  },
  "language_info": {
   "codemirror_mode": {
    "name": "ipython",
    "version": 3
   },
   "file_extension": ".py",
   "mimetype": "text/x-python",
   "name": "python",
   "nbconvert_exporter": "python",
   "pygments_lexer": "ipython3",
   "version": "3.7.10"
  },
  "latex_envs": {
   "bibliofile": "biblio.bib",
   "cite_by": "apalike",
   "current_citInitial": 1,
   "eqLabelWithNumbers": true,
   "eqNumInitial": 0
  },
  "widgets": {
   "state": {},
   "version": "1.1.2"
  }
 },
 "nbformat": 4,
 "nbformat_minor": 1
}